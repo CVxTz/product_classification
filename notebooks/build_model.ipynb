{
 "cells": [
  {
   "cell_type": "code",
   "execution_count": 1,
   "id": "70966e9d-493e-4607-a221-8206868a83b7",
   "metadata": {},
   "outputs": [],
   "source": [
    "import pandas as pd\n",
    "from pathlib import Path\n",
    "import os \n",
    "import random\n",
    "import numpy as np \n",
    "from sklearn.preprocessing import LabelEncoder\n",
    "from sklearn.model_selection import train_test_split\n",
    "import optuna\n",
    "\n",
    "from product_classification.training import evaluate_gbm, train_gbm, find_best_hyper_param_gbm\n"
   ]
  },
  {
   "cell_type": "code",
   "execution_count": 2,
   "id": "6f3ba00d-6c15-4688-8837-d5f6cbb7384f",
   "metadata": {},
   "outputs": [],
   "source": [
    "seed=2022\n",
    "random.seed(seed)\n",
    "os.environ['PYTHONHASHSEED'] = str(seed)\n",
    "np.random.seed(seed)"
   ]
  },
  {
   "cell_type": "code",
   "execution_count": 3,
   "id": "ad4663d3-c8a3-49e4-ad8a-e47ddf35ea16",
   "metadata": {},
   "outputs": [],
   "source": [
    "import matplotlib.pyplot as plt\n",
    "plt.rcParams['figure.figsize'] = [20, 10]"
   ]
  },
  {
   "cell_type": "code",
   "execution_count": 4,
   "id": "dde1564a-6f7a-4a00-bfe9-c52262e9188b",
   "metadata": {},
   "outputs": [],
   "source": [
    "cwd = Path().resolve()\n",
    "base_path = cwd.parent"
   ]
  },
  {
   "cell_type": "markdown",
   "id": "8a9a7356-f91c-4252-a102-edbcfc853397",
   "metadata": {},
   "source": [
    "## Read data"
   ]
  },
  {
   "cell_type": "code",
   "execution_count": 5,
   "id": "fad7273c-21fd-4aa1-a7ef-1e6c51206031",
   "metadata": {},
   "outputs": [],
   "source": [
    "train_val = pd.read_csv(base_path / \"data\" / \"data_train.csv\")\n",
    "test = pd.read_csv(base_path / \"data\" / \"data_test.csv\")"
   ]
  },
  {
   "cell_type": "markdown",
   "id": "ec11a5a8-a801-4c07-a342-54b212b682c8",
   "metadata": {},
   "source": [
    "## Preprocess data"
   ]
  },
  {
   "cell_type": "code",
   "execution_count": 6,
   "id": "197b451d-5ab9-4310-a156-1f0ffd112c18",
   "metadata": {},
   "outputs": [],
   "source": [
    "label_encoder = LabelEncoder()"
   ]
  },
  {
   "cell_type": "code",
   "execution_count": 7,
   "id": "46e55ac7-7938-4ce1-857b-317106cd1dcb",
   "metadata": {},
   "outputs": [],
   "source": [
    "train_val[\"target\"] = label_encoder.fit_transform(train_val[\"category_id\"])"
   ]
  },
  {
   "cell_type": "code",
   "execution_count": 8,
   "id": "4bb293ed-bdbd-4980-8c5f-3d6dcb6469fd",
   "metadata": {},
   "outputs": [],
   "source": [
    "test[\"target\"] = label_encoder.transform(test[\"category_id\"])"
   ]
  },
  {
   "cell_type": "code",
   "execution_count": 9,
   "id": "2483b785-de09-4791-ab19-7ff60a9ad375",
   "metadata": {},
   "outputs": [],
   "source": [
    "train, val = train_test_split(train_val, test_size=0.2, random_state=seed)"
   ]
  },
  {
   "cell_type": "markdown",
   "id": "1c355324-0493-4ed0-83b3-40ea25dedc8d",
   "metadata": {},
   "source": [
    "## Train and Select Model"
   ]
  },
  {
   "cell_type": "code",
   "execution_count": 10,
   "id": "86e17b82-e294-4a91-80e6-234077b4116e",
   "metadata": {},
   "outputs": [],
   "source": [
    "col_names = [f\"f{i}\" for i in range(128)]\n",
    "target_name=\"target\""
   ]
  },
  {
   "cell_type": "markdown",
   "id": "6a0158e6-ae1e-4d8e-b5c2-f747e24ce68e",
   "metadata": {},
   "source": [
    "#### We have multiple choices in the learning algorithm we can use. An MLP, KNN, or Gradient boosting for example.\n",
    "#### In what follows, we will try Gradient boosting."
   ]
  },
  {
   "cell_type": "markdown",
   "id": "f8151461-1079-482d-8f42-2209027c00fc",
   "metadata": {},
   "source": [
    "### Baseline"
   ]
  },
  {
   "cell_type": "code",
   "execution_count": 11,
   "id": "5246bc00-82fb-40f8-b5d7-f4b46f8f186f",
   "metadata": {},
   "outputs": [],
   "source": [
    "parameters = {\n",
    "        \"boosting_type\": \"gbdt\",\n",
    "        \"objective\": \"multiclass\",\n",
    "        \"metric\": \"multi_logloss\",\n",
    "        \"learning_rate\": 0.01,\n",
    "        \"n_estimators\": 1000,\n",
    "        \"max_depth\": 10,\n",
    "        \"num_leaves\": 30,\n",
    "        \"subsample\": 0.5,\n",
    "        \"colsample_bytree\": 0.5\n",
    "    }"
   ]
  },
  {
   "cell_type": "code",
   "execution_count": 12,
   "id": "cdc9587f-df54-45ff-9585-27c2459545fb",
   "metadata": {},
   "outputs": [
    {
     "name": "stdout",
     "output_type": "stream",
     "text": [
      "Training until validation scores don't improve for 50 rounds\n",
      "Did not meet early stopping. Best iteration is:\n",
      "[1000]\tvalid_0's multi_logloss: 0.979918\n",
      "Evaluated only: multi_logloss\n"
     ]
    }
   ],
   "source": [
    "baseline_classifier = train_gbm(train=train, val=val, feature_names=col_names, target_name=target_name, params=parameters, log=False)"
   ]
  },
  {
   "cell_type": "code",
   "execution_count": 13,
   "id": "c1324273-594e-40a8-8947-815239b98bec",
   "metadata": {},
   "outputs": [],
   "source": [
    "baseline_val_metrics = evaluate_gbm(val=val, feature_names=col_names, target_name=target_name, classifier=baseline_classifier)"
   ]
  },
  {
   "cell_type": "code",
   "execution_count": 14,
   "id": "57e36f58-ab79-4861-be6c-2acd28f02e63",
   "metadata": {},
   "outputs": [
    {
     "name": "stdout",
     "output_type": "stream",
     "text": [
      "val f1_macro 0.6219545030421645\n",
      "val f1_weighted 0.6368819450422253\n",
      "val accuracy 0.6439737457813115\n"
     ]
    }
   ],
   "source": [
    "for k in [\"f1_macro\", \"f1_weighted\", \"accuracy\"]:\n",
    "    print(\"val\", k, baseline_val_metrics[k])"
   ]
  },
  {
   "cell_type": "markdown",
   "id": "185a5bbf-3fa4-4553-ac4f-474888ced12f",
   "metadata": {},
   "source": [
    "### Optuna"
   ]
  },
  {
   "cell_type": "markdown",
   "id": "ab9c4506-e436-47d5-b670-c7407e391951",
   "metadata": {},
   "source": [
    "Here we will do a search for the best hyper-parameters using optuna."
   ]
  },
  {
   "cell_type": "code",
   "execution_count": 15,
   "id": "41cf42e5-8b71-44a6-9e15-c396ba5c7165",
   "metadata": {},
   "outputs": [
    {
     "name": "stderr",
     "output_type": "stream",
     "text": [
      "\u001b[32m[I 2022-07-11 09:05:10,627]\u001b[0m A new study created in memory with name: no-name-51119764-fc18-4db6-ad3b-4b0f24445865\u001b[0m\n"
     ]
    },
    {
     "name": "stdout",
     "output_type": "stream",
     "text": [
      "Training until validation scores don't improve for 10 rounds\n",
      "Did not meet early stopping. Best iteration is:\n",
      "[2000]\tvalid_0's multi_logloss: 1.03237\n",
      "Evaluated only: multi_logloss\n"
     ]
    },
    {
     "name": "stderr",
     "output_type": "stream",
     "text": [
      "\u001b[32m[I 2022-07-11 09:22:59,736]\u001b[0m Trial 0 finished with value: 0.6319079827853933 and parameters: {'reg_alpha': 1.5008965206960216e-05, 'reg_lambda': 0.0023483176148659988, 'num_leaves': 74, 'max_depth': 12, 'colsample_bytree': 0.20763793690460947, 'subsample': 0.20519521377350156, 'subsample_freq': 3, 'min_child_samples': 82, 'learning_rate': 0.0029637903574111484}. Best is trial 0 with value: 0.6319079827853933.\u001b[0m\n"
     ]
    },
    {
     "name": "stdout",
     "output_type": "stream",
     "text": [
      "Training until validation scores don't improve for 10 rounds\n",
      "Did not meet early stopping. Best iteration is:\n",
      "[2000]\tvalid_0's multi_logloss: 0.963202\n",
      "Evaluated only: multi_logloss\n"
     ]
    },
    {
     "name": "stderr",
     "output_type": "stream",
     "text": [
      "\u001b[32m[I 2022-07-11 09:35:18,203]\u001b[0m Trial 1 finished with value: 0.6344189258495069 and parameters: {'reg_alpha': 1.1626724978854518e-06, 'reg_lambda': 0.0014436747972388796, 'num_leaves': 21, 'max_depth': 5, 'colsample_bytree': 0.45739120562091273, 'subsample': 0.1928405824997978, 'subsample_freq': 2, 'min_child_samples': 43, 'learning_rate': 0.0046624359459470155}. Best is trial 1 with value: 0.6344189258495069.\u001b[0m\n"
     ]
    },
    {
     "name": "stdout",
     "output_type": "stream",
     "text": [
      "Training until validation scores don't improve for 10 rounds\n",
      "Did not meet early stopping. Best iteration is:\n",
      "[1999]\tvalid_0's multi_logloss: 0.940521\n",
      "Evaluated only: multi_logloss\n"
     ]
    },
    {
     "name": "stderr",
     "output_type": "stream",
     "text": [
      "\u001b[32m[I 2022-07-11 09:52:22,714]\u001b[0m Trial 2 finished with value: 0.6342745061496978 and parameters: {'reg_alpha': 5.8258870501319265e-05, 'reg_lambda': 0.014342119831252583, 'num_leaves': 228, 'max_depth': 5, 'colsample_bytree': 0.4990850193514885, 'subsample': 0.39515255722939024, 'subsample_freq': 7, 'min_child_samples': 79, 'learning_rate': 0.006340191802689123}. Best is trial 1 with value: 0.6344189258495069.\u001b[0m\n"
     ]
    },
    {
     "name": "stdout",
     "output_type": "stream",
     "text": [
      "Training until validation scores don't improve for 10 rounds\n",
      "Early stopping, best iteration is:\n",
      "[1505]\tvalid_0's multi_logloss: 0.975575\n",
      "Evaluated only: multi_logloss\n"
     ]
    },
    {
     "name": "stderr",
     "output_type": "stream",
     "text": [
      "\u001b[32m[I 2022-07-11 10:04:17,674]\u001b[0m Trial 3 finished with value: 0.6307176087050211 and parameters: {'reg_alpha': 0.03072097056495245, 'reg_lambda': 2.411845938289032e-08, 'num_leaves': 227, 'max_depth': 7, 'colsample_bytree': 0.2908611353350921, 'subsample': 0.19120425614228387, 'subsample_freq': 7, 'min_child_samples': 50, 'learning_rate': 0.006645038634076707}. Best is trial 1 with value: 0.6344189258495069.\u001b[0m\n"
     ]
    },
    {
     "name": "stdout",
     "output_type": "stream",
     "text": [
      "Training until validation scores don't improve for 10 rounds\n",
      "Did not meet early stopping. Best iteration is:\n",
      "[2000]\tvalid_0's multi_logloss: 0.955693\n",
      "Evaluated only: multi_logloss\n"
     ]
    },
    {
     "name": "stderr",
     "output_type": "stream",
     "text": [
      "\u001b[32m[I 2022-07-11 10:19:48,133]\u001b[0m Trial 4 finished with value: 0.6327015989906856 and parameters: {'reg_alpha': 0.0012962999728479351, 'reg_lambda': 1.4360012281577356e-08, 'num_leaves': 80, 'max_depth': 6, 'colsample_bytree': 0.4305792759515386, 'subsample': 0.27709639177310286, 'subsample_freq': 7, 'min_child_samples': 59, 'learning_rate': 0.0047342676066597774}. Best is trial 1 with value: 0.6344189258495069.\u001b[0m\n"
     ]
    },
    {
     "name": "stdout",
     "output_type": "stream",
     "text": [
      "Training until validation scores don't improve for 10 rounds\n",
      "Early stopping, best iteration is:\n",
      "[883]\tvalid_0's multi_logloss: 1.08686\n",
      "Evaluated only: multi_logloss\n"
     ]
    },
    {
     "name": "stderr",
     "output_type": "stream",
     "text": [
      "\u001b[32m[I 2022-07-11 10:44:17,198]\u001b[0m Trial 5 finished with value: 0.6236060255989683 and parameters: {'reg_alpha': 4.6757671690577183e-07, 'reg_lambda': 0.019678991816188915, 'num_leaves': 225, 'max_depth': 11, 'colsample_bytree': 0.4752124867595373, 'subsample': 0.38548968130800154, 'subsample_freq': 6, 'min_child_samples': 6, 'learning_rate': 0.0064813026485101444}. Best is trial 1 with value: 0.6344189258495069.\u001b[0m\n"
     ]
    },
    {
     "name": "stdout",
     "output_type": "stream",
     "text": [
      "Training until validation scores don't improve for 10 rounds\n",
      "Early stopping, best iteration is:\n",
      "[933]\tvalid_0's multi_logloss: 1.01366\n",
      "Evaluated only: multi_logloss\n"
     ]
    },
    {
     "name": "stderr",
     "output_type": "stream",
     "text": [
      "\u001b[32m[I 2022-07-11 10:56:49,532]\u001b[0m Trial 6 finished with value: 0.6276824693566705 and parameters: {'reg_alpha': 0.0004912491759775432, 'reg_lambda': 0.005729580545828359, 'num_leaves': 186, 'max_depth': 11, 'colsample_bytree': 0.2717567549677136, 'subsample': 0.19952103513611213, 'subsample_freq': 2, 'min_child_samples': 73, 'learning_rate': 0.008254226567880125}. Best is trial 1 with value: 0.6344189258495069.\u001b[0m\n"
     ]
    },
    {
     "name": "stdout",
     "output_type": "stream",
     "text": [
      "Training until validation scores don't improve for 10 rounds\n",
      "Did not meet early stopping. Best iteration is:\n",
      "[1993]\tvalid_0's multi_logloss: 0.9446\n",
      "Evaluated only: multi_logloss\n"
     ]
    },
    {
     "name": "stderr",
     "output_type": "stream",
     "text": [
      "\u001b[32m[I 2022-07-11 11:09:14,749]\u001b[0m Trial 7 finished with value: 0.6347245743793916 and parameters: {'reg_alpha': 0.03892430373026206, 'reg_lambda': 8.183874923157443e-07, 'num_leaves': 240, 'max_depth': 5, 'colsample_bytree': 0.28465740397974215, 'subsample': 0.24779940199470699, 'subsample_freq': 7, 'min_child_samples': 52, 'learning_rate': 0.00685863952134005}. Best is trial 7 with value: 0.6347245743793916.\u001b[0m\n"
     ]
    },
    {
     "name": "stdout",
     "output_type": "stream",
     "text": [
      "Training until validation scores don't improve for 10 rounds\n",
      "Did not meet early stopping. Best iteration is:\n",
      "[2000]\tvalid_0's multi_logloss: 1.06285\n",
      "Evaluated only: multi_logloss\n"
     ]
    },
    {
     "name": "stderr",
     "output_type": "stream",
     "text": [
      "\u001b[32m[I 2022-07-11 11:22:11,778]\u001b[0m Trial 8 finished with value: 0.6239967896054588 and parameters: {'reg_alpha': 0.0003450091555296947, 'reg_lambda': 2.9038462368379295e-06, 'num_leaves': 95, 'max_depth': 4, 'colsample_bytree': 0.4036966610839834, 'subsample': 0.39386082354906204, 'subsample_freq': 4, 'min_child_samples': 46, 'learning_rate': 0.002628802118687083}. Best is trial 7 with value: 0.6347245743793916.\u001b[0m\n"
     ]
    },
    {
     "name": "stdout",
     "output_type": "stream",
     "text": [
      "Training until validation scores don't improve for 10 rounds\n",
      "Did not meet early stopping. Best iteration is:\n",
      "[2000]\tvalid_0's multi_logloss: 0.984995\n",
      "Evaluated only: multi_logloss\n"
     ]
    },
    {
     "name": "stderr",
     "output_type": "stream",
     "text": [
      "\u001b[32m[I 2022-07-11 11:40:51,748]\u001b[0m Trial 9 finished with value: 0.633182944702669 and parameters: {'reg_alpha': 2.590890958586837e-07, 'reg_lambda': 0.039103355408642834, 'num_leaves': 70, 'max_depth': 7, 'colsample_bytree': 0.4861036921380627, 'subsample': 0.20849623841294226, 'subsample_freq': 6, 'min_child_samples': 40, 'learning_rate': 0.003135419464566112}. Best is trial 7 with value: 0.6347245743793916.\u001b[0m\n"
     ]
    },
    {
     "name": "stdout",
     "output_type": "stream",
     "text": [
      "Training until validation scores don't improve for 10 rounds\n",
      "Did not meet early stopping. Best iteration is:\n",
      "[2000]\tvalid_0's multi_logloss: 1.25865\n",
      "Evaluated only: multi_logloss\n"
     ]
    },
    {
     "name": "stderr",
     "output_type": "stream",
     "text": [
      "\u001b[32m[I 2022-07-11 11:57:10,047]\u001b[0m Trial 10 finished with value: 0.6285392942301933 and parameters: {'reg_alpha': 0.07435843423721046, 'reg_lambda': 1.962930476047929e-06, 'num_leaves': 158, 'max_depth': 9, 'colsample_bytree': 0.3519297762919443, 'subsample': 0.10844137330718545, 'subsample_freq': 5, 'min_child_samples': 100, 'learning_rate': 0.0011941502497955035}. Best is trial 7 with value: 0.6347245743793916.\u001b[0m\n"
     ]
    },
    {
     "name": "stdout",
     "output_type": "stream",
     "text": [
      "Training until validation scores don't improve for 10 rounds\n",
      "Did not meet early stopping. Best iteration is:\n",
      "[2000]\tvalid_0's multi_logloss: 0.97741\n",
      "Evaluated only: multi_logloss\n"
     ]
    },
    {
     "name": "stderr",
     "output_type": "stream",
     "text": [
      "\u001b[32m[I 2022-07-11 12:06:56,299]\u001b[0m Trial 11 finished with value: 0.6354595777481152 and parameters: {'reg_alpha': 2.445720854712531e-06, 'reg_lambda': 0.00013222706547387405, 'num_leaves': 16, 'max_depth': 4, 'colsample_bytree': 0.3096645147471717, 'subsample': 0.27809753335369947, 'subsample_freq': 1, 'min_child_samples': 23, 'learning_rate': 0.004502947426135766}. Best is trial 11 with value: 0.6354595777481152.\u001b[0m\n"
     ]
    },
    {
     "name": "stdout",
     "output_type": "stream",
     "text": [
      "Training until validation scores don't improve for 10 rounds\n",
      "Did not meet early stopping. Best iteration is:\n",
      "[2000]\tvalid_0's multi_logloss: 1.16616\n",
      "Evaluated only: multi_logloss\n"
     ]
    },
    {
     "name": "stderr",
     "output_type": "stream",
     "text": [
      "\u001b[32m[I 2022-07-11 12:17:10,944]\u001b[0m Trial 12 finished with value: 0.6211115278557249 and parameters: {'reg_alpha': 2.83604818306489e-08, 'reg_lambda': 6.84550003727505e-05, 'num_leaves': 17, 'max_depth': 4, 'colsample_bytree': 0.3055496714378469, 'subsample': 0.2963720843457045, 'subsample_freq': 4, 'min_child_samples': 19, 'learning_rate': 0.0019195955967687129}. Best is trial 11 with value: 0.6354595777481152.\u001b[0m\n"
     ]
    },
    {
     "name": "stdout",
     "output_type": "stream",
     "text": [
      "Training until validation scores don't improve for 10 rounds\n",
      "Early stopping, best iteration is:\n",
      "[858]\tvalid_0's multi_logloss: 1.011\n",
      "Evaluated only: multi_logloss\n"
     ]
    },
    {
     "name": "stderr",
     "output_type": "stream",
     "text": [
      "\u001b[32m[I 2022-07-11 12:26:45,790]\u001b[0m Trial 13 finished with value: 0.6267511992549507 and parameters: {'reg_alpha': 5.832206262987245e-06, 'reg_lambda': 4.6160043421625845e-05, 'num_leaves': 130, 'max_depth': 8, 'colsample_bytree': 0.23541123844159795, 'subsample': 0.325044487406771, 'subsample_freq': 1, 'min_child_samples': 26, 'learning_rate': 0.009588387810042377}. Best is trial 11 with value: 0.6354595777481152.\u001b[0m\n"
     ]
    },
    {
     "name": "stdout",
     "output_type": "stream",
     "text": [
      "Training until validation scores don't improve for 10 rounds\n",
      "Did not meet early stopping. Best iteration is:\n",
      "[2000]\tvalid_0's multi_logloss: 0.980564\n",
      "Evaluated only: multi_logloss\n"
     ]
    },
    {
     "name": "stderr",
     "output_type": "stream",
     "text": [
      "\u001b[32m[I 2022-07-11 12:36:06,190]\u001b[0m Trial 14 finished with value: 0.6342907833854202 and parameters: {'reg_alpha': 0.0016595210487340183, 'reg_lambda': 8.387902269763939e-07, 'num_leaves': 254, 'max_depth': 4, 'colsample_bytree': 0.35167917420088546, 'subsample': 0.25227339388984515, 'subsample_freq': 1, 'min_child_samples': 28, 'learning_rate': 0.004330333022056556}. Best is trial 11 with value: 0.6354595777481152.\u001b[0m\n"
     ]
    },
    {
     "name": "stdout",
     "output_type": "stream",
     "text": [
      "Training until validation scores don't improve for 10 rounds\n",
      "Did not meet early stopping. Best iteration is:\n",
      "[2000]\tvalid_0's multi_logloss: 0.967282\n",
      "Evaluated only: multi_logloss\n"
     ]
    },
    {
     "name": "stderr",
     "output_type": "stream",
     "text": [
      "\u001b[32m[I 2022-07-11 12:52:49,855]\u001b[0m Trial 15 finished with value: 0.6306221036347027 and parameters: {'reg_alpha': 0.007463503438484613, 'reg_lambda': 0.00037053932011149544, 'num_leaves': 178, 'max_depth': 6, 'colsample_bytree': 0.3173268844397965, 'subsample': 0.3184813555500866, 'subsample_freq': 3, 'min_child_samples': 6, 'learning_rate': 0.004194091216611514}. Best is trial 11 with value: 0.6354595777481152.\u001b[0m\n"
     ]
    },
    {
     "name": "stdout",
     "output_type": "stream",
     "text": [
      "Training until validation scores don't improve for 10 rounds\n",
      "Did not meet early stopping. Best iteration is:\n",
      "[2000]\tvalid_0's multi_logloss: 1.10907\n",
      "Evaluated only: multi_logloss\n"
     ]
    },
    {
     "name": "stderr",
     "output_type": "stream",
     "text": [
      "\u001b[32m[I 2022-07-11 13:02:21,364]\u001b[0m Trial 16 finished with value: 0.6316261313651564 and parameters: {'reg_alpha': 2.797496180316564e-08, 'reg_lambda': 2.0108008134450116e-07, 'num_leaves': 119, 'max_depth': 5, 'colsample_bytree': 0.2508791264853571, 'subsample': 0.155665628012717, 'subsample_freq': 5, 'min_child_samples': 64, 'learning_rate': 0.0021192993122425303}. Best is trial 11 with value: 0.6354595777481152.\u001b[0m\n"
     ]
    },
    {
     "name": "stdout",
     "output_type": "stream",
     "text": [
      "Training until validation scores don't improve for 10 rounds\n",
      "Early stopping, best iteration is:\n",
      "[1451]\tvalid_0's multi_logloss: 1.00456\n",
      "Evaluated only: multi_logloss\n"
     ]
    },
    {
     "name": "stderr",
     "output_type": "stream",
     "text": [
      "\u001b[32m[I 2022-07-11 13:16:36,281]\u001b[0m Trial 17 finished with value: 0.6255318429554247 and parameters: {'reg_alpha': 4.317905950951854e-05, 'reg_lambda': 8.236099371317156e-06, 'num_leaves': 55, 'max_depth': 9, 'colsample_bytree': 0.3824675779392013, 'subsample': 0.24988140019899716, 'subsample_freq': 3, 'min_child_samples': 32, 'learning_rate': 0.005605499877956783}. Best is trial 11 with value: 0.6354595777481152.\u001b[0m\n"
     ]
    },
    {
     "name": "stdout",
     "output_type": "stream",
     "text": [
      "Training until validation scores don't improve for 10 rounds\n",
      "Early stopping, best iteration is:\n",
      "[1187]\tvalid_0's multi_logloss: 0.963949\n",
      "Evaluated only: multi_logloss\n"
     ]
    },
    {
     "name": "stderr",
     "output_type": "stream",
     "text": [
      "\u001b[32m[I 2022-07-11 13:26:43,670]\u001b[0m Trial 18 finished with value: 0.6311634533205941 and parameters: {'reg_alpha': 3.4327446769762784e-06, 'reg_lambda': 1.9983411865880321e-07, 'num_leaves': 194, 'max_depth': 6, 'colsample_bytree': 0.32856436506436326, 'subsample': 0.34811855272725184, 'subsample_freq': 5, 'min_child_samples': 19, 'learning_rate': 0.00826284137333196}. Best is trial 11 with value: 0.6354595777481152.\u001b[0m\n"
     ]
    },
    {
     "name": "stdout",
     "output_type": "stream",
     "text": [
      "Training until validation scores don't improve for 10 rounds\n",
      "Did not meet early stopping. Best iteration is:\n",
      "[2000]\tvalid_0's multi_logloss: 1.01002\n",
      "Evaluated only: multi_logloss\n"
     ]
    },
    {
     "name": "stderr",
     "output_type": "stream",
     "text": [
      "\u001b[32m[I 2022-07-11 13:35:06,142]\u001b[0m Trial 19 finished with value: 0.6333882108033906 and parameters: {'reg_alpha': 0.00012918380860106485, 'reg_lambda': 0.00017949910448754566, 'num_leaves': 109, 'max_depth': 4, 'colsample_bytree': 0.27438490032505136, 'subsample': 0.2526725177651089, 'subsample_freq': 2, 'min_child_samples': 59, 'learning_rate': 0.003659805743808139}. Best is trial 11 with value: 0.6354595777481152.\u001b[0m\n"
     ]
    }
   ],
   "source": [
    "study = find_best_hyper_param_gbm(\n",
    "        train=train,\n",
    "        val=val,\n",
    "        feature_names=col_names,\n",
    "        target_name=\"target\",\n",
    "        n_trials=20\n",
    "    )"
   ]
  },
  {
   "cell_type": "code",
   "execution_count": 16,
   "id": "f2455513-30c2-4eb0-a15c-272f2b7403c0",
   "metadata": {},
   "outputs": [
    {
     "name": "stdout",
     "output_type": "stream",
     "text": [
      "Best f1_macro 0.6354595777481152\n"
     ]
    }
   ],
   "source": [
    "print(\"Best f1_macro\", study.best_value)"
   ]
  },
  {
   "cell_type": "code",
   "execution_count": 17,
   "id": "72635542-6675-4867-a2bf-37db578ec397",
   "metadata": {},
   "outputs": [
    {
     "data": {
      "text/plain": [
       "{'reg_alpha': 2.445720854712531e-06,\n",
       " 'reg_lambda': 0.00013222706547387405,\n",
       " 'num_leaves': 16,\n",
       " 'max_depth': 4,\n",
       " 'colsample_bytree': 0.3096645147471717,\n",
       " 'subsample': 0.27809753335369947,\n",
       " 'subsample_freq': 1,\n",
       " 'min_child_samples': 23,\n",
       " 'learning_rate': 0.004502947426135766}"
      ]
     },
     "execution_count": 17,
     "metadata": {},
     "output_type": "execute_result"
    }
   ],
   "source": [
    "study.best_params"
   ]
  },
  {
   "cell_type": "code",
   "execution_count": 18,
   "id": "56dad811-fe22-4eba-80cc-0ee484744b07",
   "metadata": {},
   "outputs": [
    {
     "data": {
      "image/png": "[encoded data removed]",
      "text/plain": [
       "<Figure size 1440x720 with 1 Axes>"
      ]
     },
     "metadata": {
      "needs_background": "light"
     },
     "output_type": "display_data"
    }
   ],
   "source": [
    "fig = plt.figure(figsize=(20, 10))\n",
    "plt.scatter(range(len(study.trials)), [x.value for x in study.trials])\n",
    "plt.xlabel(\"# Trials\")\n",
    "plt.ylabel(\"f1_macro\")\n",
    "plt.title(\"Metric by number of trials\")\n",
    "plt.show()"
   ]
  },
  {
   "cell_type": "code",
   "execution_count": 38,
   "id": "2bbdf71d-af8e-460e-8eb8-9ca852afb9fe",
   "metadata": {},
   "outputs": [],
   "source": [
    "best_parameters = {\n",
    "        \"boosting_type\": \"gbdt\",\n",
    "        \"objective\": \"multiclass\",\n",
    "        \"metric\": \"multi_logloss\",\n",
    "        \"n_estimators\": 3000,\n",
    "        **study.best_params\n",
    "    }\n"
   ]
  },
  {
   "cell_type": "code",
   "execution_count": 39,
   "id": "2bf074da-886e-466d-8265-c3e2c065ca4b",
   "metadata": {},
   "outputs": [
    {
     "name": "stdout",
     "output_type": "stream",
     "text": [
      "Training until validation scores don't improve for 50 rounds\n",
      "Did not meet early stopping. Best iteration is:\n",
      "[3000]\tvalid_0's multi_logloss: 0.940494\n",
      "Evaluated only: multi_logloss\n"
     ]
    }
   ],
   "source": [
    "best_classifier = train_gbm(train=train, val=val, feature_names=col_names, target_name=target_name, params=best_parameters, log=False)"
   ]
  },
  {
   "cell_type": "code",
   "execution_count": 40,
   "id": "9feeaac9-eab4-473c-9b03-ff9a884c9d05",
   "metadata": {},
   "outputs": [],
   "source": [
    "best_val_metrics = evaluate_gbm(val=val, feature_names=col_names, target_name=target_name, classifier=best_classifier)"
   ]
  },
  {
   "cell_type": "code",
   "execution_count": 41,
   "id": "9ea5c3e3-c196-4ce0-bcb6-e541f0c9c369",
   "metadata": {},
   "outputs": [
    {
     "name": "stdout",
     "output_type": "stream",
     "text": [
      "val f1_macro 0.6367092955616233\n",
      "val f1_weighted 0.6495943828879033\n",
      "val accuracy 0.6572250864442926\n"
     ]
    }
   ],
   "source": [
    "for k in [\"f1_macro\", \"f1_weighted\", \"accuracy\"]:\n",
    "    print(\"val\", k, best_val_metrics[k])"
   ]
  },
  {
   "cell_type": "code",
   "execution_count": 42,
   "id": "a49f649c-8d9d-48e3-a208-2e93f5a8ed0e",
   "metadata": {},
   "outputs": [
    {
     "name": "stdout",
     "output_type": "stream",
     "text": [
      "    target        f1  category_id\n",
      "71      71  0.304813        10149\n",
      "35      35  0.305136         3080\n",
      "12      12  0.309305         2820\n",
      "29      29  0.383721         3043\n",
      "13      13  0.389549         2824\n",
      "..     ...       ...          ...\n",
      "55      55  0.938776         7024\n",
      "32      32  0.963650         3056\n",
      "53      53  0.964068         6933\n",
      "67      67  0.982164         9560\n",
      "66      66  0.990826         8931\n",
      "\n",
      "[101 rows x 3 columns]\n"
     ]
    }
   ],
   "source": [
    "per_class_val_metrics = pd.DataFrame({\n",
    "    \"target\": range(len(best_val_metrics[\"per_class_f1\"])), \n",
    "    \"f1\": best_val_metrics[\"per_class_f1\"],\n",
    "    \"category_id\": label_encoder.inverse_transform(range(len(best_val_metrics[\"per_class_f1\"])))\n",
    "})\n",
    "\n",
    "per_class_val_metrics.sort_values(by=\"f1\", inplace=True)\n",
    "\n",
    "print(per_class_val_metrics)"
   ]
  },
  {
   "cell_type": "markdown",
   "id": "e9a4d3a4-1ed1-480d-9d01-de9452273c6b",
   "metadata": {},
   "source": [
    "## Evaluate Model"
   ]
  },
  {
   "cell_type": "code",
   "execution_count": 43,
   "id": "bc500653-1c2b-45f9-a31b-17de4b7e4b6b",
   "metadata": {},
   "outputs": [],
   "source": [
    "best_test_metrics = evaluate_gbm(test, feature_names=col_names, target_name=target_name, classifier=best_classifier)"
   ]
  },
  {
   "cell_type": "code",
   "execution_count": 44,
   "id": "1eb75aa3-1716-4fb4-92b6-dc8881ab601b",
   "metadata": {},
   "outputs": [
    {
     "name": "stdout",
     "output_type": "stream",
     "text": [
      "test f1_macro 0.6132670455164222\n",
      "test f1_weighted 0.6259979823874611\n",
      "test accuracy 0.6324153963073897\n"
     ]
    }
   ],
   "source": [
    "for k in [\"f1_macro\", \"f1_weighted\", \"accuracy\"]:\n",
    "    print(\"test\", k, best_test_metrics[k])"
   ]
  },
  {
   "cell_type": "code",
   "execution_count": 45,
   "id": "20c10287-cb18-44be-a773-28f9e1c34e34",
   "metadata": {},
   "outputs": [
    {
     "name": "stdout",
     "output_type": "stream",
     "text": [
      "    target        f1  category_id\n",
      "86      86  0.273585        14763\n",
      "12      12  0.318695         2820\n",
      "35      35  0.333333         3080\n",
      "33      33  0.350820         3069\n",
      "13      13  0.362353         2824\n",
      "..     ...       ...          ...\n",
      "53      53  0.888889         6933\n",
      "55      55  0.895470         7024\n",
      "32      32  0.966781         3056\n",
      "67      67  0.972638         9560\n",
      "66      66  0.990374         8931\n",
      "\n",
      "[101 rows x 3 columns]\n"
     ]
    }
   ],
   "source": [
    "per_class_test_metrics = pd.DataFrame({\n",
    "    \"target\": range(len(best_test_metrics[\"per_class_f1\"])), \n",
    "    \"f1\": best_test_metrics[\"per_class_f1\"],\n",
    "    \"category_id\": label_encoder.inverse_transform(range(len(best_test_metrics[\"per_class_f1\"])))\n",
    "})\n",
    "\n",
    "per_class_test_metrics.sort_values(by=\"f1\", inplace=True)\n",
    "\n",
    "print(per_class_test_metrics)"
   ]
  },
  {
   "cell_type": "markdown",
   "id": "6197d3e7-f243-403e-8d6e-273a458671fe",
   "metadata": {},
   "source": [
    "#### Some classes have a pretty good f1 score, like 14763 or 2820, other have a lower f1 score like 8931."
   ]
  },
  {
   "cell_type": "markdown",
   "id": "c83bdcd4-a48b-4835-ad36-0e0640e9e927",
   "metadata": {},
   "source": [
    "## Possible improvements"
   ]
  },
  {
   "cell_type": "markdown",
   "id": "8c885679-71c3-40c2-a6f4-0922c6f8defb",
   "metadata": {},
   "source": [
    "### Using extra data and better feature representations"
   ]
  },
  {
   "cell_type": "markdown",
   "id": "c50cf0ea-dfba-4b62-a026-2e2b6b6c4a78",
   "metadata": {},
   "source": [
    "#### To solve this problem, we can either collect more labeled data for those classes or work on improving the process by which the features f0 to f127 are generated.\n",
    "#### If we assume that the features are component of vector embeddings, we can maybe leverage pre-trained language models if the original data is text or use an unsupervised training scheme like SimCLR on large amounts of in-domain data if it is images.\n",
    "#### We can also try transfer learning if we can scrap these types of samples from the web. We can train an initial model on these scraped data and then finetune the weights on the current dataset.\n",
    "#### One other promissing approach is to try a multi-modal solution, where we use image, text title and description and other metadata to classify the category of each product."
   ]
  },
  {
   "cell_type": "markdown",
   "id": "1d3ac3da-eac9-4c28-9519-c6a779b99d15",
   "metadata": {},
   "source": [
    "### Using hierarchy information"
   ]
  },
  {
   "cell_type": "markdown",
   "id": "4990415e-83f4-4552-9965-e991adc88833",
   "metadata": {},
   "source": [
    "#### One other approach that may help in improving the performance is to use the hierarchy information when building the classification system.\n",
    "#### We can build a model (or a classification head) for each level of the hierarchy. This can allow us to reduce the distance between the target leaf and predicted leaf."
   ]
  }
 ],
 "metadata": {
  "kernelspec": {
   "display_name": "Python 3 (ipykernel)",
   "language": "python",
   "name": "python3"
  },
  "language_info": {
   "codemirror_mode": {
    "name": "ipython",
    "version": 3
   },
   "file_extension": ".py",
   "mimetype": "text/x-python",
   "name": "python",
   "nbconvert_exporter": "python",
   "pygments_lexer": "ipython3",
   "version": "3.8.0"
  }
 },
 "nbformat": 4,
 "nbformat_minor": 5
}
